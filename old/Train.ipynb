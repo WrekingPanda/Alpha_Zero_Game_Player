{
 "cells": [
  {
   "cell_type": "markdown",
   "metadata": {},
   "source": [
    "### Imports"
   ]
  },
  {
   "cell_type": "code",
   "execution_count": null,
   "metadata": {},
   "outputs": [],
   "source": [
    "from ataxx import AttaxxBoard\n",
    "from go import GoBoard\n",
    "\n",
    "from CNN import Net\n",
    "from alphazero import AlphaZero\n",
    "from alphazeroparallel import AlphaZeroParallel\n",
    "from az_parallel2 import AlphaZeroParallel2\n",
    "\n",
    "from torch.optim import Adam"
   ]
  },
  {
   "cell_type": "markdown",
   "metadata": {},
   "source": [
    "## Ataxx Game"
   ]
  },
  {
   "cell_type": "markdown",
   "metadata": {},
   "source": [
    "### Training Ataxx 4x4\n"
   ]
  },
  {
   "cell_type": "code",
   "execution_count": null,
   "metadata": {},
   "outputs": [],
   "source": [
    "def Train_Ataxx_4x4():\n",
    "    model = Net(4,4**4,40,64)\n",
    "    board = AttaxxBoard(4)\n",
    "    optimizer = Adam(model.parameters(), lr=0.001, weight_decay=0.0001)\n",
    "    params = {\"n_iterations\":10, \"self_play_iterations\":20, \"mcts_iterations\":50, \"n_epochs\":50, \"batch_size\":64, \"n_self_play_parallel\":10}\n",
    "    Alpha = AlphaZeroParallel2(model, optimizer, board, 'A', data_augmentation=True, **params)\n",
    "    Alpha.Learn()\n",
    "\n",
    "Train_Ataxx_4x4()"
   ]
  },
  {
   "cell_type": "markdown",
   "metadata": {},
   "source": [
    "### Training Ataxx 5x5"
   ]
  },
  {
   "cell_type": "code",
   "execution_count": null,
   "metadata": {},
   "outputs": [],
   "source": [
    "def Train_Ataxx_5x5():\n",
    "    model = Net(5,5**4,40,64)\n",
    "    board = AttaxxBoard(5)\n",
    "    optimizer = Adam(model.parameters(), lr=0.001, weight_decay=0.0001)\n",
    "    params = {\"n_iterations\":10, \"self_play_iterations\":20, \"mcts_iterations\":100, \"n_epochs\":50, \"batch_size\":64, \"n_self_play_parallel\":10}\n",
    "    Alpha = AlphaZeroParallel2(model, optimizer, board, 'A', data_augmentation=True, **params)\n",
    "    Alpha.Learn()\n",
    "\n",
    "Train_Ataxx_5x5()"
   ]
  },
  {
   "cell_type": "markdown",
   "metadata": {},
   "source": [
    "### Training Ataxx 6x6"
   ]
  },
  {
   "cell_type": "code",
   "execution_count": null,
   "metadata": {},
   "outputs": [],
   "source": [
    "def Train_Ataxx_6x6():\n",
    "    model = Net(6,6**4,40,64)\n",
    "    board = AttaxxBoard(6)\n",
    "    optimizer = Adam(model.parameters(), lr=0.001, weight_decay=0.0001)\n",
    "    params = {\"n_iterations\":10, \"self_play_iterations\":3, \"mcts_iterations\":100, \"n_epochs\":50, \"batch_size\":64, \"n_self_play_parallel\":2}\n",
    "    Alpha = AlphaZeroParallel2(model, optimizer, board, 'A', data_augmentation=True, **params)\n",
    "    Alpha.Learn()\n",
    "\n",
    "Train_Ataxx_6x6()"
   ]
  },
  {
   "cell_type": "markdown",
   "metadata": {},
   "source": [
    "### Training Ataxx Flex"
   ]
  },
  {
   "cell_type": "code",
   "execution_count": null,
   "metadata": {},
   "outputs": [],
   "source": [
    "# the funnies"
   ]
  },
  {
   "cell_type": "markdown",
   "metadata": {},
   "source": [
    "## Go Game"
   ]
  },
  {
   "cell_type": "markdown",
   "metadata": {},
   "source": [
    "### Training Go 7x7"
   ]
  },
  {
   "cell_type": "code",
   "execution_count": null,
   "metadata": {},
   "outputs": [],
   "source": [
    "def Train_Go_7x7():\n",
    "    model = Net(7,(7**2)+1,40,64)\n",
    "    board = GoBoard(7)\n",
    "    optimizer = Adam(model.parameters(), lr=0.001, weight_decay=0.0001)\n",
    "    params = {\"n_iterations\":10, \"self_play_iterations\":20, \"mcts_iterations\":100, \"n_epochs\":100, \"batch_size\":64, \"n_self_play_parallel\":5}\n",
    "    Alpha = AlphaZeroParallel2(model, optimizer, board, 'G', data_augmentation=True, **params)\n",
    "    Alpha.Learn()\n",
    "\n",
    "Train_Go_7x7()"
   ]
  },
  {
   "cell_type": "markdown",
   "metadata": {},
   "source": [
    "### Training Go 9x9"
   ]
  },
  {
   "cell_type": "code",
   "execution_count": null,
   "metadata": {},
   "outputs": [],
   "source": [
    "def Train_Go_9x9():\n",
    "    model = Net(9,(9**2)+1,40,64)\n",
    "    board = GoBoard(9)\n",
    "    optimizer = Adam(model.parameters(), lr=0.001, weight_decay=0.0001)\n",
    "    params = {\"n_iterations\":10, \"self_play_iterations\":20, \"mcts_iterations\":100, \"n_epochs\":100, \"batch_size\":64, \"n_self_play_parallel\":5}\n",
    "    Alpha = AlphaZeroParallel2(model, optimizer, board, 'G', data_augmentation=True, **params)\n",
    "    Alpha.Learn()\n",
    "\n",
    "Train_Go_9x9()"
   ]
  },
  {
   "cell_type": "markdown",
   "metadata": {},
   "source": [
    "### Training Go Flex"
   ]
  },
  {
   "cell_type": "code",
   "execution_count": null,
   "metadata": {},
   "outputs": [],
   "source": [
    "# The funnies"
   ]
  }
 ],
 "metadata": {
  "language_info": {
   "name": "python"
  }
 },
 "nbformat": 4,
 "nbformat_minor": 2
}
