{
 "cells": [
  {
   "cell_type": "markdown",
   "metadata": {},
   "source": [
    "# Model Testing"
   ]
  },
  {
   "cell_type": "code",
   "execution_count": null,
   "metadata": {},
   "outputs": [],
   "source": [
    "from google.colab import drive\n",
    "drive.mount('/content/drive',force_remount=True)"
   ]
  },
  {
   "cell_type": "code",
   "execution_count": null,
   "metadata": {},
   "outputs": [],
   "source": [
    "import os\n",
    "os.chdir(\"/content/drive/MyDrive\")"
   ]
  },
  {
   "cell_type": "code",
   "execution_count": 1,
   "metadata": {},
   "outputs": [
    {
     "name": "stdout",
     "output_type": "stream",
     "text": [
      "pygame 2.1.2 (SDL 2.0.18, Python 3.10.13)\n",
      "Hello from the pygame community. https://www.pygame.org/contribute.html\n"
     ]
    }
   ],
   "source": [
    "from CNN import Net\n",
    "from go import GoBoard\n",
    "from time import sleep\n",
    "from ataxx import AtaxxBoard\n",
    "from torch.optim import Adam\n",
    "from model_params import MODEL_PARAMS\n",
    "from az_parallel2 import AlphaZeroParallel2\n",
    "from aMCTS_parallel import MCTSParallel, MCTS_Node\n",
    "import numpy as np\n",
    "import graphics\n",
    "import pygame\n",
    "import torch\n",
    "torch.manual_seed(0)\n",
    "\n",
    "import warnings\n",
    "warnings.filterwarnings(\"ignore\")\n"
   ]
  },
  {
   "cell_type": "markdown",
   "metadata": {},
   "source": [
    "### Load Desired Model"
   ]
  },
  {
   "cell_type": "code",
   "execution_count": 6,
   "metadata": {},
   "outputs": [],
   "source": [
    "def load_model(game_type,game_size):\n",
    "    model = Net(**MODEL_PARAMS.get(game_type+str(game_size)))\n",
    "    \n",
    "    model_path = \"Final_Models/\"\n",
    "    model_name = game_type + str(game_size) + \".pt\"\n",
    "    \n",
    "    model.load_state_dict(torch.load(model_path + model_name, map_location=torch.device(\"cuda\" if torch.cuda.is_available() else \"cpu\")))\n",
    "    model.eval()\n",
    "\n",
    "    return model"
   ]
  },
  {
   "cell_type": "markdown",
   "metadata": {},
   "source": [
    "### Ataxx 4x4 vs Testing"
   ]
  },
  {
   "cell_type": "markdown",
   "metadata": {},
   "source": [
    "simple vs moderate -> simple\n",
    "\n",
    "simple vs complex -> simple\n",
    "\n",
    "moderate vs simple -> moderate\n",
    "\n",
    "moderate vs complex -> moderate\n",
    "\n",
    "complex vs simple -> simple\n",
    "\n",
    "complex vs moderate -> moderate"
   ]
  },
  {
   "cell_type": "markdown",
   "metadata": {},
   "source": [
    "#### complex model might be overfitting"
   ]
  },
  {
   "cell_type": "markdown",
   "metadata": {},
   "source": [
    "### Model vs Minimax Testing Function"
   ]
  },
  {
   "cell_type": "code",
   "execution_count": 20,
   "metadata": {},
   "outputs": [],
   "source": [
    "def face_minimax(game_type, game_size, minimax_player, mcts_iterations=100, render=False):\n",
    "    board = AtaxxBoard(game_size) if game_type==\"A\" else GoBoard(game_size)\n",
    "    board.Start(render)\n",
    "\n",
    "    if render:\n",
    "        graphics.draw_board(board.board)\n",
    "        pygame.display.flip()\n",
    "\n",
    "    model = load_model(game_type, game_size)\n",
    "    mcts = MCTSParallel(model)\n",
    "\n",
    "    while True:\n",
    "        if render:\n",
    "            graphics.draw_board(board.board)\n",
    "            pygame.display.flip()\n",
    "        print(board.board)\n",
    "        #print(board.minimax(2,True,-np.inf,np.inf,board.player))\n",
    "\n",
    "        if board.player == minimax_player:\n",
    "            move = []\n",
    "            if not render:\n",
    "                #move = list(map(int, input(\"Move: \").split(\" \")))\n",
    "                move = board.minimax(1,True,-np.inf,np.inf,board.player)\n",
    "                print(\"Minimax Move:\", move)\n",
    "                board.Move(move[0])\n",
    "                board.NextPlayer()\n",
    "                if render:\n",
    "                    graphics.draw_board(board.board)\n",
    "                    pygame.display.flip()\n",
    "                board.CheckFinish(render)\n",
    "            \n",
    "        else:\n",
    "            roots = [MCTS_Node(board)]\n",
    "            mcts_probs = mcts.Search(roots, mcts_iterations, test=True)\n",
    "            action = np.argmax(mcts_probs)\n",
    "            move = mcts.roots[0].children[action].originMove\n",
    "            print(\"Alphazero Move:\", move)\n",
    "            board.Move(move)\n",
    "            board.NextPlayer()\n",
    "            if render:\n",
    "                graphics.draw_board(board.board)\n",
    "                pygame.display.flip()\n",
    "            board.CheckFinish(render)\n",
    "        \n",
    "        if board.hasFinished():\n",
    "            print(board.board)\n",
    "            if board.winner != 3:\n",
    "                print(board.winner, \"won\")\n",
    "            else:\n",
    "                print(\"draw\")\n",
    "            break"
   ]
  },
  {
   "cell_type": "code",
   "execution_count": 21,
   "metadata": {},
   "outputs": [
    {
     "name": "stdout",
     "output_type": "stream",
     "text": [
      "[[0. 0. 0. 0. 0. 0. 0.]\n",
      " [0. 0. 0. 0. 0. 0. 0.]\n",
      " [0. 0. 0. 0. 0. 0. 0.]\n",
      " [0. 0. 0. 0. 0. 0. 0.]\n",
      " [0. 0. 0. 0. 0. 0. 0.]\n",
      " [0. 0. 0. 0. 0. 0. 0.]\n",
      " [0. 0. 0. 0. 0. 0. 0.]]\n"
     ]
    },
    {
     "data": {
      "application/vnd.jupyter.widget-view+json": {
       "model_id": "1164ec1fa6714a439b00e7b596864a33",
       "version_major": 2,
       "version_minor": 0
      },
      "text/plain": [
       "MCTS Iterations:   0%|                                                    | 0/100 [00:00<?, ?iter/s]"
      ]
     },
     "metadata": {},
     "output_type": "display_data"
    },
    {
     "name": "stdout",
     "output_type": "stream",
     "text": [
      "Alphazero Move: (3, 3)\n",
      "[[0. 0. 0. 0. 0. 0. 0.]\n",
      " [0. 0. 0. 0. 0. 0. 0.]\n",
      " [0. 0. 0. 0. 0. 0. 0.]\n",
      " [0. 0. 0. 1. 0. 0. 0.]\n",
      " [0. 0. 0. 0. 0. 0. 0.]\n",
      " [0. 0. 0. 0. 0. 0. 0.]\n",
      " [0. 0. 0. 0. 0. 0. 0.]]\n",
      "Minimax Move: ((0, 0), -0.5)\n",
      "[[2. 0. 0. 0. 0. 0. 0.]\n",
      " [0. 0. 0. 0. 0. 0. 0.]\n",
      " [0. 0. 0. 0. 0. 0. 0.]\n",
      " [0. 0. 0. 1. 0. 0. 0.]\n",
      " [0. 0. 0. 0. 0. 0. 0.]\n",
      " [0. 0. 0. 0. 0. 0. 0.]\n",
      " [0. 0. 0. 0. 0. 0. 0.]]\n"
     ]
    },
    {
     "data": {
      "application/vnd.jupyter.widget-view+json": {
       "model_id": "1725d87178c543fda5a8596f38574de1",
       "version_major": 2,
       "version_minor": 0
      },
      "text/plain": [
       "MCTS Iterations:   0%|                                                    | 0/100 [00:00<?, ?iter/s]"
      ]
     },
     "metadata": {},
     "output_type": "display_data"
    },
    {
     "name": "stdout",
     "output_type": "stream",
     "text": [
      "Alphazero Move: (0, 6)\n",
      "[[2. 0. 0. 0. 0. 0. 1.]\n",
      " [0. 0. 0. 0. 0. 0. 0.]\n",
      " [0. 0. 0. 0. 0. 0. 0.]\n",
      " [0. 0. 0. 1. 0. 0. 0.]\n",
      " [0. 0. 0. 0. 0. 0. 0.]\n",
      " [0. 0. 0. 0. 0. 0. 0.]\n",
      " [0. 0. 0. 0. 0. 0. 0.]]\n",
      "Minimax Move: ((0, 1), -3.5)\n",
      "[[2. 2. 0. 0. 0. 0. 1.]\n",
      " [0. 0. 0. 0. 0. 0. 0.]\n",
      " [0. 0. 0. 0. 0. 0. 0.]\n",
      " [0. 0. 0. 1. 0. 0. 0.]\n",
      " [0. 0. 0. 0. 0. 0. 0.]\n",
      " [0. 0. 0. 0. 0. 0. 0.]\n",
      " [0. 0. 0. 0. 0. 0. 0.]]\n"
     ]
    },
    {
     "data": {
      "application/vnd.jupyter.widget-view+json": {
       "model_id": "fc79ee3cbb2c4098a91bbe5c67339580",
       "version_major": 2,
       "version_minor": 0
      },
      "text/plain": [
       "MCTS Iterations:   0%|                                                    | 0/100 [00:00<?, ?iter/s]"
      ]
     },
     "metadata": {},
     "output_type": "display_data"
    },
    {
     "name": "stdout",
     "output_type": "stream",
     "text": [
      "Alphazero Move: (2, 2)\n",
      "[[2. 2. 0. 0. 0. 0. 1.]\n",
      " [0. 0. 0. 0. 0. 0. 0.]\n",
      " [0. 0. 1. 0. 0. 0. 0.]\n",
      " [0. 0. 0. 1. 0. 0. 0.]\n",
      " [0. 0. 0. 0. 0. 0. 0.]\n",
      " [0. 0. 0. 0. 0. 0. 0.]\n",
      " [0. 0. 0. 0. 0. 0. 0.]]\n",
      "Minimax Move: ((1, 1), -4.5)\n",
      "[[2. 2. 0. 0. 0. 0. 1.]\n",
      " [0. 2. 0. 0. 0. 0. 0.]\n",
      " [0. 0. 1. 0. 0. 0. 0.]\n",
      " [0. 0. 0. 1. 0. 0. 0.]\n",
      " [0. 0. 0. 0. 0. 0. 0.]\n",
      " [0. 0. 0. 0. 0. 0. 0.]\n",
      " [0. 0. 0. 0. 0. 0. 0.]]\n"
     ]
    },
    {
     "data": {
      "application/vnd.jupyter.widget-view+json": {
       "model_id": "057e175fffed4e7dbcac73c74ecb701d",
       "version_major": 2,
       "version_minor": 0
      },
      "text/plain": [
       "MCTS Iterations:   0%|                                                    | 0/100 [00:00<?, ?iter/s]"
      ]
     },
     "metadata": {},
     "output_type": "display_data"
    },
    {
     "name": "stdout",
     "output_type": "stream",
     "text": [
      "Alphazero Move: (1, 5)\n",
      "[[2. 2. 0. 0. 0. 0. 1.]\n",
      " [0. 2. 0. 0. 0. 1. 0.]\n",
      " [0. 0. 1. 0. 0. 0. 0.]\n",
      " [0. 0. 0. 1. 0. 0. 0.]\n",
      " [0. 0. 0. 0. 0. 0. 0.]\n",
      " [0. 0. 0. 0. 0. 0. 0.]\n",
      " [0. 0. 0. 0. 0. 0. 0.]]\n",
      "Minimax Move: ((0, 2), -6.5)\n",
      "[[2. 2. 2. 0. 0. 0. 1.]\n",
      " [0. 2. 0. 0. 0. 1. 0.]\n",
      " [0. 0. 1. 0. 0. 0. 0.]\n",
      " [0. 0. 0. 1. 0. 0. 0.]\n",
      " [0. 0. 0. 0. 0. 0. 0.]\n",
      " [0. 0. 0. 0. 0. 0. 0.]\n",
      " [0. 0. 0. 0. 0. 0. 0.]]\n"
     ]
    },
    {
     "data": {
      "application/vnd.jupyter.widget-view+json": {
       "model_id": "2fedd40d15fa41029e1eaec3ef6947e5",
       "version_major": 2,
       "version_minor": 0
      },
      "text/plain": [
       "MCTS Iterations:   0%|                                                    | 0/100 [00:00<?, ?iter/s]"
      ]
     },
     "metadata": {},
     "output_type": "display_data"
    },
    {
     "name": "stdout",
     "output_type": "stream",
     "text": [
      "Alphazero Move: (5, 0)\n",
      "[[2. 2. 2. 0. 0. 0. 1.]\n",
      " [0. 2. 0. 0. 0. 1. 0.]\n",
      " [0. 0. 1. 0. 0. 0. 0.]\n",
      " [0. 0. 0. 1. 0. 0. 0.]\n",
      " [0. 0. 0. 0. 0. 0. 0.]\n",
      " [1. 0. 0. 0. 0. 0. 0.]\n",
      " [0. 0. 0. 0. 0. 0. 0.]]\n",
      "Minimax Move: ((0, 4), -9.5)\n",
      "[[2. 2. 2. 0. 2. 0. 1.]\n",
      " [0. 2. 0. 0. 0. 1. 0.]\n",
      " [0. 0. 1. 0. 0. 0. 0.]\n",
      " [0. 0. 0. 1. 0. 0. 0.]\n",
      " [0. 0. 0. 0. 0. 0. 0.]\n",
      " [1. 0. 0. 0. 0. 0. 0.]\n",
      " [0. 0. 0. 0. 0. 0. 0.]]\n"
     ]
    },
    {
     "data": {
      "application/vnd.jupyter.widget-view+json": {
       "model_id": "1112f3d504d34088aed77fb0e8e9b68c",
       "version_major": 2,
       "version_minor": 0
      },
      "text/plain": [
       "MCTS Iterations:   0%|                                                    | 0/100 [00:00<?, ?iter/s]"
      ]
     },
     "metadata": {},
     "output_type": "display_data"
    },
    {
     "name": "stdout",
     "output_type": "stream",
     "text": [
      "Alphazero Move: (6, 0)\n",
      "[[2. 2. 2. 0. 2. 0. 1.]\n",
      " [0. 2. 0. 0. 0. 1. 0.]\n",
      " [0. 0. 1. 0. 0. 0. 0.]\n",
      " [0. 0. 0. 1. 0. 0. 0.]\n",
      " [0. 0. 0. 0. 0. 0. 0.]\n",
      " [1. 0. 0. 0. 0. 0. 0.]\n",
      " [1. 0. 0. 0. 0. 0. 0.]]\n",
      "Minimax Move: ((0, 5), -8.5)\n",
      "[[2. 2. 2. 0. 2. 2. 1.]\n",
      " [0. 2. 0. 0. 0. 1. 0.]\n",
      " [0. 0. 1. 0. 0. 0. 0.]\n",
      " [0. 0. 0. 1. 0. 0. 0.]\n",
      " [0. 0. 0. 0. 0. 0. 0.]\n",
      " [1. 0. 0. 0. 0. 0. 0.]\n",
      " [1. 0. 0. 0. 0. 0. 0.]]\n"
     ]
    },
    {
     "data": {
      "application/vnd.jupyter.widget-view+json": {
       "model_id": "b2e97784ca3d489a928b76d869d7a848",
       "version_major": 2,
       "version_minor": 0
      },
      "text/plain": [
       "MCTS Iterations:   0%|                                                    | 0/100 [00:00<?, ?iter/s]"
      ]
     },
     "metadata": {},
     "output_type": "display_data"
    },
    {
     "name": "stdout",
     "output_type": "stream",
     "text": [
      "Alphazero Move: (4, 4)\n",
      "[[2. 2. 2. 0. 2. 2. 1.]\n",
      " [0. 2. 0. 0. 0. 1. 0.]\n",
      " [0. 0. 1. 0. 0. 0. 0.]\n",
      " [0. 0. 0. 1. 0. 0. 0.]\n",
      " [0. 0. 0. 0. 1. 0. 0.]\n",
      " [1. 0. 0. 0. 0. 0. 0.]\n",
      " [1. 0. 0. 0. 0. 0. 0.]]\n",
      "Minimax Move: ((0, 3), -10.5)\n",
      "[[2. 2. 2. 2. 2. 2. 1.]\n",
      " [0. 2. 0. 0. 0. 1. 0.]\n",
      " [0. 0. 1. 0. 0. 0. 0.]\n",
      " [0. 0. 0. 1. 0. 0. 0.]\n",
      " [0. 0. 0. 0. 1. 0. 0.]\n",
      " [1. 0. 0. 0. 0. 0. 0.]\n",
      " [1. 0. 0. 0. 0. 0. 0.]]\n"
     ]
    },
    {
     "data": {
      "application/vnd.jupyter.widget-view+json": {
       "model_id": "36cdad2a24b24a98b9c578237ffa9230",
       "version_major": 2,
       "version_minor": 0
      },
      "text/plain": [
       "MCTS Iterations:   0%|                                                    | 0/100 [00:00<?, ?iter/s]"
      ]
     },
     "metadata": {},
     "output_type": "display_data"
    },
    {
     "name": "stdout",
     "output_type": "stream",
     "text": [
      "Alphazero Move: (6, 6)\n",
      "[[2. 2. 2. 2. 2. 2. 1.]\n",
      " [0. 2. 0. 0. 0. 1. 0.]\n",
      " [0. 0. 1. 0. 0. 0. 0.]\n",
      " [0. 0. 0. 1. 0. 0. 0.]\n",
      " [0. 0. 0. 0. 1. 0. 0.]\n",
      " [1. 0. 0. 0. 0. 0. 0.]\n",
      " [1. 0. 0. 0. 0. 0. 1.]]\n",
      "Minimax Move: ((1, 2), -11.5)\n",
      "[[2. 2. 2. 2. 2. 2. 1.]\n",
      " [0. 2. 2. 0. 0. 1. 0.]\n",
      " [0. 0. 1. 0. 0. 0. 0.]\n",
      " [0. 0. 0. 1. 0. 0. 0.]\n",
      " [0. 0. 0. 0. 1. 0. 0.]\n",
      " [1. 0. 0. 0. 0. 0. 0.]\n",
      " [1. 0. 0. 0. 0. 0. 1.]]\n"
     ]
    },
    {
     "data": {
      "application/vnd.jupyter.widget-view+json": {
       "model_id": "eaeef4ca72fc415884a4ae768f204b2d",
       "version_major": 2,
       "version_minor": 0
      },
      "text/plain": [
       "MCTS Iterations:   0%|                                                    | 0/100 [00:00<?, ?iter/s]"
      ]
     },
     "metadata": {},
     "output_type": "display_data"
    },
    {
     "name": "stdout",
     "output_type": "stream",
     "text": [
      "Alphazero Move: (1, 4)\n",
      "[[2. 2. 2. 2. 2. 2. 1.]\n",
      " [0. 2. 2. 0. 1. 1. 0.]\n",
      " [0. 0. 1. 0. 0. 0. 0.]\n",
      " [0. 0. 0. 1. 0. 0. 0.]\n",
      " [0. 0. 0. 0. 1. 0. 0.]\n",
      " [1. 0. 0. 0. 0. 0. 0.]\n",
      " [1. 0. 0. 0. 0. 0. 1.]]\n",
      "Minimax Move: ((1, 3), -10.5)\n",
      "[[2. 2. 2. 2. 2. 2. 1.]\n",
      " [0. 2. 2. 2. 1. 1. 0.]\n",
      " [0. 0. 1. 0. 0. 0. 0.]\n",
      " [0. 0. 0. 1. 0. 0. 0.]\n",
      " [0. 0. 0. 0. 1. 0. 0.]\n",
      " [1. 0. 0. 0. 0. 0. 0.]\n",
      " [1. 0. 0. 0. 0. 0. 1.]]\n"
     ]
    },
    {
     "data": {
      "application/vnd.jupyter.widget-view+json": {
       "model_id": "75caae90bf124e04bebaed88993bbb0f",
       "version_major": 2,
       "version_minor": 0
      },
      "text/plain": [
       "MCTS Iterations:   0%|                                                    | 0/100 [00:00<?, ?iter/s]"
      ]
     },
     "metadata": {},
     "output_type": "display_data"
    },
    {
     "name": "stdout",
     "output_type": "stream",
     "text": [
      "Alphazero Move: (5, 2)\n",
      "[[2. 2. 2. 2. 2. 2. 1.]\n",
      " [0. 2. 2. 2. 1. 1. 0.]\n",
      " [0. 0. 1. 0. 0. 0. 0.]\n",
      " [0. 0. 0. 1. 0. 0. 0.]\n",
      " [0. 0. 0. 0. 1. 0. 0.]\n",
      " [1. 0. 1. 0. 0. 0. 0.]\n",
      " [1. 0. 0. 0. 0. 0. 1.]]\n",
      "Minimax Move: ((2, 3), -12.5)\n",
      "[[2. 2. 2. 2. 2. 2. 1.]\n",
      " [0. 2. 2. 2. 1. 1. 0.]\n",
      " [0. 0. 1. 2. 0. 0. 0.]\n",
      " [0. 0. 0. 1. 0. 0. 0.]\n",
      " [0. 0. 0. 0. 1. 0. 0.]\n",
      " [1. 0. 1. 0. 0. 0. 0.]\n",
      " [1. 0. 0. 0. 0. 0. 1.]]\n"
     ]
    },
    {
     "data": {
      "application/vnd.jupyter.widget-view+json": {
       "model_id": "5b20a99c25b2470f94b4e4bb688194bd",
       "version_major": 2,
       "version_minor": 0
      },
      "text/plain": [
       "MCTS Iterations:   0%|                                                    | 0/100 [00:00<?, ?iter/s]"
      ]
     },
     "metadata": {},
     "output_type": "display_data"
    },
    {
     "name": "stdout",
     "output_type": "stream",
     "text": [
      "Alphazero Move: (2, 5)\n",
      "[[2. 2. 2. 2. 2. 2. 1.]\n",
      " [0. 2. 2. 2. 1. 1. 0.]\n",
      " [0. 0. 1. 2. 0. 1. 0.]\n",
      " [0. 0. 0. 1. 0. 0. 0.]\n",
      " [0. 0. 0. 0. 1. 0. 0.]\n",
      " [1. 0. 1. 0. 0. 0. 0.]\n",
      " [1. 0. 0. 0. 0. 0. 1.]]\n",
      "Minimax Move: ((2, 4), -12.5)\n",
      "[[2. 2. 2. 2. 2. 2. 1.]\n",
      " [0. 2. 2. 2. 1. 1. 0.]\n",
      " [0. 0. 1. 2. 2. 1. 0.]\n",
      " [0. 0. 0. 1. 0. 0. 0.]\n",
      " [0. 0. 0. 0. 1. 0. 0.]\n",
      " [1. 0. 1. 0. 0. 0. 0.]\n",
      " [1. 0. 0. 0. 0. 0. 1.]]\n"
     ]
    },
    {
     "data": {
      "application/vnd.jupyter.widget-view+json": {
       "model_id": "3d6ca245c44f4035ad07ae35b3666133",
       "version_major": 2,
       "version_minor": 0
      },
      "text/plain": [
       "MCTS Iterations:   0%|                                                    | 0/100 [00:00<?, ?iter/s]"
      ]
     },
     "metadata": {},
     "output_type": "display_data"
    },
    {
     "name": "stdout",
     "output_type": "stream",
     "text": [
      "Alphazero Move: (4, 2)\n",
      "[[2. 2. 2. 2. 2. 2. 1.]\n",
      " [0. 2. 2. 2. 1. 1. 0.]\n",
      " [0. 0. 1. 2. 2. 1. 0.]\n",
      " [0. 0. 0. 1. 0. 0. 0.]\n",
      " [0. 0. 1. 0. 1. 0. 0.]\n",
      " [1. 0. 1. 0. 0. 0. 0.]\n",
      " [1. 0. 0. 0. 0. 0. 1.]]\n",
      "Minimax Move: ((3, 4), -11.5)\n",
      "[[2. 2. 2. 2. 2. 2. 1.]\n",
      " [0. 2. 2. 2. 1. 1. 0.]\n",
      " [0. 0. 1. 2. 2. 1. 0.]\n",
      " [0. 0. 0. 1. 2. 0. 0.]\n",
      " [0. 0. 1. 0. 1. 0. 0.]\n",
      " [1. 0. 1. 0. 0. 0. 0.]\n",
      " [1. 0. 0. 0. 0. 0. 1.]]\n"
     ]
    },
    {
     "data": {
      "application/vnd.jupyter.widget-view+json": {
       "model_id": "8a787c1003284df293dfda80a2c4bc94",
       "version_major": 2,
       "version_minor": 0
      },
      "text/plain": [
       "MCTS Iterations:   0%|                                                    | 0/100 [00:00<?, ?iter/s]"
      ]
     },
     "metadata": {},
     "output_type": "display_data"
    },
    {
     "name": "stdout",
     "output_type": "stream",
     "text": [
      "Alphazero Move: (4, 5)\n",
      "[[2. 2. 2. 2. 2. 2. 1.]\n",
      " [0. 2. 2. 2. 1. 1. 0.]\n",
      " [0. 0. 1. 2. 2. 1. 0.]\n",
      " [0. 0. 0. 1. 2. 0. 0.]\n",
      " [0. 0. 1. 0. 1. 1. 0.]\n",
      " [1. 0. 1. 0. 0. 0. 0.]\n",
      " [1. 0. 0. 0. 0. 0. 1.]]\n",
      "Minimax Move: ((4, 3), -11.5)\n",
      "[[2. 2. 2. 2. 2. 2. 1.]\n",
      " [0. 2. 2. 2. 1. 1. 0.]\n",
      " [0. 0. 1. 2. 2. 1. 0.]\n",
      " [0. 0. 0. 1. 2. 0. 0.]\n",
      " [0. 0. 1. 2. 1. 1. 0.]\n",
      " [1. 0. 1. 0. 0. 0. 0.]\n",
      " [1. 0. 0. 0. 0. 0. 1.]]\n"
     ]
    },
    {
     "data": {
      "application/vnd.jupyter.widget-view+json": {
       "model_id": "86d643b722df4c3691ceb256b0954d21",
       "version_major": 2,
       "version_minor": 0
      },
      "text/plain": [
       "MCTS Iterations:   0%|                                                    | 0/100 [00:00<?, ?iter/s]"
      ]
     },
     "metadata": {},
     "output_type": "display_data"
    },
    {
     "name": "stdout",
     "output_type": "stream",
     "text": [
      "Alphazero Move: (5, 4)\n",
      "[[2. 2. 2. 2. 2. 2. 1.]\n",
      " [0. 2. 2. 2. 1. 1. 0.]\n",
      " [0. 0. 1. 2. 2. 1. 0.]\n",
      " [0. 0. 0. 1. 2. 0. 0.]\n",
      " [0. 0. 1. 2. 1. 1. 0.]\n",
      " [1. 0. 1. 0. 1. 0. 0.]\n",
      " [1. 0. 0. 0. 0. 0. 1.]]\n",
      "Minimax Move: ((5, 1), -10.5)\n",
      "[[2. 2. 2. 2. 2. 2. 1.]\n",
      " [0. 2. 2. 2. 1. 1. 0.]\n",
      " [0. 0. 1. 2. 2. 1. 0.]\n",
      " [0. 0. 0. 1. 2. 0. 0.]\n",
      " [0. 0. 1. 2. 1. 1. 0.]\n",
      " [1. 2. 1. 0. 1. 0. 0.]\n",
      " [1. 0. 0. 0. 0. 0. 1.]]\n"
     ]
    },
    {
     "data": {
      "application/vnd.jupyter.widget-view+json": {
       "model_id": "7678ec6f51fd41b5bc7add9a3fe45ea1",
       "version_major": 2,
       "version_minor": 0
      },
      "text/plain": [
       "MCTS Iterations:   0%|                                                    | 0/100 [00:00<?, ?iter/s]"
      ]
     },
     "metadata": {},
     "output_type": "display_data"
    },
    {
     "name": "stdout",
     "output_type": "stream",
     "text": [
      "Alphazero Move: (4, 1)\n",
      "[[2. 2. 2. 2. 2. 2. 1.]\n",
      " [0. 2. 2. 2. 1. 1. 0.]\n",
      " [0. 0. 1. 2. 2. 1. 0.]\n",
      " [0. 0. 0. 1. 2. 0. 0.]\n",
      " [0. 1. 1. 2. 1. 1. 0.]\n",
      " [1. 2. 1. 0. 1. 0. 0.]\n",
      " [1. 0. 0. 0. 0. 0. 1.]]\n",
      "Minimax Move: ((5, 5), -9.5)\n",
      "[[2. 2. 2. 2. 2. 2. 1.]\n",
      " [0. 2. 2. 2. 1. 1. 0.]\n",
      " [0. 0. 1. 2. 2. 1. 0.]\n",
      " [0. 0. 0. 1. 2. 0. 0.]\n",
      " [0. 1. 1. 2. 1. 1. 0.]\n",
      " [1. 2. 1. 0. 1. 2. 0.]\n",
      " [1. 0. 0. 0. 0. 0. 1.]]\n"
     ]
    },
    {
     "data": {
      "application/vnd.jupyter.widget-view+json": {
       "model_id": "78dc21ca51044c7f9353929c42f3fe9e",
       "version_major": 2,
       "version_minor": 0
      },
      "text/plain": [
       "MCTS Iterations:   0%|                                                    | 0/100 [00:00<?, ?iter/s]"
      ]
     },
     "metadata": {},
     "output_type": "display_data"
    },
    {
     "name": "stdout",
     "output_type": "stream",
     "text": [
      "Alphazero Move: (5, 3)\n",
      "[[2. 2. 2. 2. 2. 2. 1.]\n",
      " [0. 2. 2. 2. 1. 1. 0.]\n",
      " [0. 0. 1. 2. 2. 1. 0.]\n",
      " [0. 0. 0. 1. 2. 0. 0.]\n",
      " [0. 1. 1. 0. 1. 1. 0.]\n",
      " [1. 2. 1. 1. 1. 2. 0.]\n",
      " [1. 0. 0. 0. 0. 0. 1.]]\n",
      "Minimax Move: ((3, 2), -9.5)\n",
      "[[2. 2. 2. 2. 2. 2. 1.]\n",
      " [0. 2. 2. 2. 1. 1. 0.]\n",
      " [0. 0. 1. 2. 2. 1. 0.]\n",
      " [0. 0. 2. 1. 2. 0. 0.]\n",
      " [0. 1. 1. 0. 1. 1. 0.]\n",
      " [1. 2. 1. 1. 1. 2. 0.]\n",
      " [1. 0. 0. 0. 0. 0. 1.]]\n"
     ]
    },
    {
     "data": {
      "application/vnd.jupyter.widget-view+json": {
       "model_id": "7fa4a3304a48412c81a7a9d9ed01905b",
       "version_major": 2,
       "version_minor": 0
      },
      "text/plain": [
       "MCTS Iterations:   0%|                                                    | 0/100 [00:00<?, ?iter/s]"
      ]
     },
     "metadata": {},
     "output_type": "display_data"
    },
    {
     "name": "stdout",
     "output_type": "stream",
     "text": [
      "Alphazero Move: (2, 6)\n",
      "[[2. 2. 2. 2. 2. 2. 1.]\n",
      " [0. 2. 2. 2. 1. 1. 0.]\n",
      " [0. 0. 1. 2. 2. 1. 1.]\n",
      " [0. 0. 2. 1. 2. 0. 0.]\n",
      " [0. 1. 1. 0. 1. 1. 0.]\n",
      " [1. 2. 1. 1. 1. 2. 0.]\n",
      " [1. 0. 0. 0. 0. 0. 1.]]\n",
      "Minimax Move: ((3, 5), -8.5)\n",
      "[[2. 2. 2. 2. 2. 2. 1.]\n",
      " [0. 2. 2. 2. 1. 1. 0.]\n",
      " [0. 0. 1. 2. 2. 1. 1.]\n",
      " [0. 0. 2. 1. 2. 2. 0.]\n",
      " [0. 1. 1. 0. 1. 1. 0.]\n",
      " [1. 2. 1. 1. 1. 2. 0.]\n",
      " [1. 0. 0. 0. 0. 0. 1.]]\n"
     ]
    },
    {
     "data": {
      "application/vnd.jupyter.widget-view+json": {
       "model_id": "a8a13b17cf564c54919a9a1870bc6d55",
       "version_major": 2,
       "version_minor": 0
      },
      "text/plain": [
       "MCTS Iterations:   0%|                                                    | 0/100 [00:00<?, ?iter/s]"
      ]
     },
     "metadata": {},
     "output_type": "display_data"
    },
    {
     "name": "stdout",
     "output_type": "stream",
     "text": [
      "Alphazero Move: (3, 1)\n",
      "[[2. 2. 2. 2. 2. 2. 1.]\n",
      " [0. 2. 2. 2. 1. 1. 0.]\n",
      " [0. 0. 1. 2. 2. 1. 1.]\n",
      " [0. 1. 0. 1. 2. 2. 0.]\n",
      " [0. 1. 1. 0. 1. 1. 0.]\n",
      " [1. 2. 1. 1. 1. 2. 0.]\n",
      " [1. 0. 0. 0. 0. 0. 1.]]\n",
      "Minimax Move: ((3, 2), -8.5)\n",
      "[[2. 2. 2. 2. 2. 2. 1.]\n",
      " [0. 2. 2. 2. 1. 1. 0.]\n",
      " [0. 0. 1. 2. 2. 1. 1.]\n",
      " [0. 1. 2. 1. 2. 2. 0.]\n",
      " [0. 1. 1. 0. 1. 1. 0.]\n",
      " [1. 2. 1. 1. 1. 2. 0.]\n",
      " [1. 0. 0. 0. 0. 0. 1.]]\n"
     ]
    },
    {
     "data": {
      "application/vnd.jupyter.widget-view+json": {
       "model_id": "ef7379a05a9b4713bb36581b4194d934",
       "version_major": 2,
       "version_minor": 0
      },
      "text/plain": [
       "MCTS Iterations:   0%|                                                    | 0/100 [00:00<?, ?iter/s]"
      ]
     },
     "metadata": {},
     "output_type": "display_data"
    },
    {
     "name": "stdout",
     "output_type": "stream",
     "text": [
      "Alphazero Move: (2, 0)\n",
      "[[2. 2. 2. 2. 2. 2. 1.]\n",
      " [0. 2. 2. 2. 1. 1. 0.]\n",
      " [1. 0. 1. 2. 2. 1. 1.]\n",
      " [0. 1. 2. 1. 2. 2. 0.]\n",
      " [0. 1. 1. 0. 1. 1. 0.]\n",
      " [1. 2. 1. 1. 1. 2. 0.]\n",
      " [1. 0. 0. 0. 0. 0. 1.]]\n",
      "Minimax Move: ((1, 0), -7.5)\n",
      "[[2. 2. 2. 2. 2. 2. 1.]\n",
      " [2. 2. 2. 2. 1. 1. 0.]\n",
      " [1. 0. 1. 2. 2. 1. 1.]\n",
      " [0. 1. 2. 1. 2. 2. 0.]\n",
      " [0. 1. 1. 0. 1. 1. 0.]\n",
      " [1. 2. 1. 1. 1. 2. 0.]\n",
      " [1. 0. 0. 0. 0. 0. 1.]]\n"
     ]
    },
    {
     "data": {
      "application/vnd.jupyter.widget-view+json": {
       "model_id": "621af7f593754b66ab61b64e1dde7cea",
       "version_major": 2,
       "version_minor": 0
      },
      "text/plain": [
       "MCTS Iterations:   0%|                                                    | 0/100 [00:00<?, ?iter/s]"
      ]
     },
     "metadata": {},
     "output_type": "display_data"
    },
    {
     "name": "stdout",
     "output_type": "stream",
     "text": [
      "Alphazero Move: (6, 1)\n",
      "[[2. 2. 2. 2. 2. 2. 1.]\n",
      " [2. 2. 2. 2. 1. 1. 0.]\n",
      " [1. 0. 1. 2. 2. 1. 1.]\n",
      " [0. 1. 2. 1. 2. 2. 0.]\n",
      " [0. 1. 1. 0. 1. 1. 0.]\n",
      " [1. 0. 1. 1. 1. 2. 0.]\n",
      " [1. 1. 0. 0. 0. 0. 1.]]\n",
      "Minimax Move: ((3, 0), -6.5)\n",
      "[[2. 2. 2. 2. 2. 2. 1.]\n",
      " [2. 2. 2. 2. 1. 1. 0.]\n",
      " [1. 0. 1. 2. 2. 1. 1.]\n",
      " [2. 1. 2. 1. 2. 2. 0.]\n",
      " [0. 1. 1. 0. 1. 1. 0.]\n",
      " [1. 0. 1. 1. 1. 2. 0.]\n",
      " [1. 1. 0. 0. 0. 0. 1.]]\n"
     ]
    },
    {
     "data": {
      "application/vnd.jupyter.widget-view+json": {
       "model_id": "0ebe9173a74d4daf8a8d4d0d4cd17110",
       "version_major": 2,
       "version_minor": 0
      },
      "text/plain": [
       "MCTS Iterations:   0%|                                                    | 0/100 [00:00<?, ?iter/s]"
      ]
     },
     "metadata": {},
     "output_type": "display_data"
    },
    {
     "name": "stdout",
     "output_type": "stream",
     "text": [
      "Alphazero Move: (4, 6)\n",
      "[[2. 2. 2. 2. 2. 2. 1.]\n",
      " [2. 2. 2. 2. 1. 1. 0.]\n",
      " [1. 0. 1. 2. 2. 1. 1.]\n",
      " [2. 1. 2. 1. 2. 2. 0.]\n",
      " [0. 1. 1. 0. 1. 1. 1.]\n",
      " [1. 0. 1. 1. 1. 2. 0.]\n",
      " [1. 1. 0. 0. 0. 0. 1.]]\n",
      "Minimax Move: ((3, 6), -4.5)\n",
      "[[2. 2. 2. 2. 2. 2. 1.]\n",
      " [2. 2. 2. 2. 1. 1. 0.]\n",
      " [1. 0. 1. 2. 2. 1. 1.]\n",
      " [2. 1. 2. 1. 2. 2. 2.]\n",
      " [0. 1. 1. 0. 1. 1. 1.]\n",
      " [1. 0. 1. 1. 1. 2. 0.]\n",
      " [1. 1. 0. 0. 0. 0. 1.]]\n"
     ]
    },
    {
     "data": {
      "application/vnd.jupyter.widget-view+json": {
       "model_id": "f41413538e0547cb924e0a4317232884",
       "version_major": 2,
       "version_minor": 0
      },
      "text/plain": [
       "MCTS Iterations:   0%|                                                    | 0/100 [00:00<?, ?iter/s]"
      ]
     },
     "metadata": {},
     "output_type": "display_data"
    },
    {
     "name": "stdout",
     "output_type": "stream",
     "text": [
      "Alphazero Move: (-1, -1)\n",
      "[[2. 2. 2. 2. 2. 2. 1.]\n",
      " [2. 2. 2. 2. 1. 1. 0.]\n",
      " [1. 0. 1. 2. 2. 1. 1.]\n",
      " [2. 1. 2. 1. 2. 2. 2.]\n",
      " [0. 1. 1. 0. 1. 1. 1.]\n",
      " [1. 0. 1. 1. 1. 2. 0.]\n",
      " [1. 1. 0. 0. 0. 0. 1.]]\n",
      "Minimax Move: ((4, 0), -3.5)\n",
      "[[2. 2. 2. 2. 2. 2. 1.]\n",
      " [2. 2. 2. 2. 1. 1. 0.]\n",
      " [1. 0. 1. 2. 2. 1. 1.]\n",
      " [2. 1. 2. 1. 2. 2. 2.]\n",
      " [2. 1. 1. 0. 1. 1. 1.]\n",
      " [1. 0. 1. 1. 1. 2. 0.]\n",
      " [1. 1. 0. 0. 0. 0. 1.]]\n"
     ]
    },
    {
     "data": {
      "application/vnd.jupyter.widget-view+json": {
       "model_id": "21ed8f2b15784f5bbaaade77b499f3ae",
       "version_major": 2,
       "version_minor": 0
      },
      "text/plain": [
       "MCTS Iterations:   0%|                                                    | 0/100 [00:00<?, ?iter/s]"
      ]
     },
     "metadata": {},
     "output_type": "display_data"
    },
    {
     "name": "stdout",
     "output_type": "stream",
     "text": [
      "Alphazero Move: (-1, -1)\n",
      "[[2. 2. 2. 2. 2. 2. 1.]\n",
      " [2. 2. 2. 2. 1. 1. 0.]\n",
      " [1. 0. 1. 2. 2. 1. 1.]\n",
      " [2. 1. 2. 1. 2. 2. 2.]\n",
      " [2. 1. 1. 0. 1. 1. 1.]\n",
      " [1. 0. 1. 1. 1. 2. 0.]\n",
      " [1. 1. 0. 0. 0. 0. 1.]]\n",
      "Minimax Move: ((5, 1), -2.5)\n",
      "[[2. 2. 2. 2. 2. 2. 1.]\n",
      " [2. 2. 2. 2. 1. 1. 0.]\n",
      " [1. 0. 1. 2. 2. 1. 1.]\n",
      " [2. 1. 2. 1. 2. 2. 2.]\n",
      " [2. 1. 1. 0. 1. 1. 1.]\n",
      " [1. 2. 1. 1. 1. 2. 0.]\n",
      " [1. 1. 0. 0. 0. 0. 1.]]\n"
     ]
    },
    {
     "data": {
      "application/vnd.jupyter.widget-view+json": {
       "model_id": "e5253828fe13485187d8e3ee66ea7284",
       "version_major": 2,
       "version_minor": 0
      },
      "text/plain": [
       "MCTS Iterations:   0%|                                                    | 0/100 [00:00<?, ?iter/s]"
      ]
     },
     "metadata": {},
     "output_type": "display_data"
    },
    {
     "name": "stdout",
     "output_type": "stream",
     "text": [
      "Alphazero Move: (-1, -1)\n",
      "[[2. 2. 2. 2. 2. 2. 1.]\n",
      " [2. 2. 2. 2. 1. 1. 0.]\n",
      " [1. 0. 1. 2. 2. 1. 1.]\n",
      " [2. 1. 2. 1. 2. 2. 2.]\n",
      " [2. 1. 1. 0. 1. 1. 1.]\n",
      " [1. 2. 1. 1. 1. 2. 0.]\n",
      " [1. 1. 0. 0. 0. 0. 1.]]\n",
      "Minimax Move: ((5, 6), -1.5)\n",
      "[[2. 2. 2. 2. 2. 2. 1.]\n",
      " [2. 2. 2. 2. 1. 1. 0.]\n",
      " [1. 0. 1. 2. 2. 1. 1.]\n",
      " [2. 1. 2. 1. 2. 2. 2.]\n",
      " [2. 1. 1. 0. 1. 1. 1.]\n",
      " [1. 2. 1. 1. 1. 2. 2.]\n",
      " [1. 1. 0. 0. 0. 0. 1.]]\n"
     ]
    },
    {
     "data": {
      "application/vnd.jupyter.widget-view+json": {
       "model_id": "2ea52ca7cb45484a93873c64c222c1b5",
       "version_major": 2,
       "version_minor": 0
      },
      "text/plain": [
       "MCTS Iterations:   0%|                                                    | 0/100 [00:00<?, ?iter/s]"
      ]
     },
     "metadata": {},
     "output_type": "display_data"
    },
    {
     "name": "stdout",
     "output_type": "stream",
     "text": [
      "Alphazero Move: (-1, -1)\n",
      "[[2. 2. 2. 2. 2. 2. 1.]\n",
      " [2. 2. 2. 2. 1. 1. 0.]\n",
      " [1. 0. 1. 2. 2. 1. 1.]\n",
      " [2. 1. 2. 1. 2. 2. 2.]\n",
      " [2. 1. 1. 0. 1. 1. 1.]\n",
      " [1. 2. 1. 1. 1. 2. 2.]\n",
      " [1. 1. 0. 0. 0. 0. 1.]]\n",
      "Minimax Move: ((6, 3), -0.5)\n",
      "[[2. 2. 2. 2. 2. 2. 1.]\n",
      " [2. 2. 2. 2. 1. 1. 0.]\n",
      " [1. 0. 1. 2. 2. 1. 1.]\n",
      " [2. 1. 2. 1. 2. 2. 2.]\n",
      " [2. 1. 1. 0. 1. 1. 1.]\n",
      " [1. 2. 1. 1. 1. 2. 2.]\n",
      " [1. 1. 0. 2. 0. 0. 1.]]\n"
     ]
    },
    {
     "data": {
      "application/vnd.jupyter.widget-view+json": {
       "model_id": "f92baab825fd40d5a75570d1539a952a",
       "version_major": 2,
       "version_minor": 0
      },
      "text/plain": [
       "MCTS Iterations:   0%|                                                    | 0/100 [00:00<?, ?iter/s]"
      ]
     },
     "metadata": {},
     "output_type": "display_data"
    },
    {
     "name": "stdout",
     "output_type": "stream",
     "text": [
      "Alphazero Move: (-1, -1)\n",
      "[[2. 2. 2. 2. 2. 2. 1.]\n",
      " [2. 2. 2. 2. 1. 1. 0.]\n",
      " [1. 0. 1. 2. 2. 1. 1.]\n",
      " [2. 1. 2. 1. 2. 2. 2.]\n",
      " [2. 1. 1. 0. 1. 1. 1.]\n",
      " [1. 2. 1. 1. 1. 2. 2.]\n",
      " [1. 1. 0. 2. 0. 0. 1.]]\n",
      "Minimax Move: ((6, 4), 0.5)\n",
      "[[2. 2. 2. 2. 2. 2. 1.]\n",
      " [2. 2. 2. 2. 1. 1. 0.]\n",
      " [1. 0. 1. 2. 2. 1. 1.]\n",
      " [2. 1. 2. 1. 2. 2. 2.]\n",
      " [2. 1. 1. 0. 1. 1. 1.]\n",
      " [1. 2. 1. 1. 1. 2. 2.]\n",
      " [1. 1. 0. 2. 2. 0. 1.]]\n"
     ]
    },
    {
     "data": {
      "application/vnd.jupyter.widget-view+json": {
       "model_id": "68100bfbf1e84673baedc3d93d8a68eb",
       "version_major": 2,
       "version_minor": 0
      },
      "text/plain": [
       "MCTS Iterations:   0%|                                                    | 0/100 [00:00<?, ?iter/s]"
      ]
     },
     "metadata": {},
     "output_type": "display_data"
    },
    {
     "name": "stdout",
     "output_type": "stream",
     "text": [
      "Alphazero Move: (6, 5)\n",
      "[[2. 2. 2. 2. 2. 2. 1.]\n",
      " [2. 2. 2. 2. 1. 1. 0.]\n",
      " [1. 0. 1. 2. 2. 1. 1.]\n",
      " [2. 1. 2. 1. 2. 2. 2.]\n",
      " [2. 1. 1. 0. 1. 1. 1.]\n",
      " [1. 2. 1. 1. 1. 0. 0.]\n",
      " [1. 1. 0. 2. 2. 1. 1.]]\n",
      "Minimax Move: ((5, 5), 0.5)\n",
      "[[2. 2. 2. 2. 2. 2. 1.]\n",
      " [2. 2. 2. 2. 1. 1. 0.]\n",
      " [1. 0. 1. 2. 2. 1. 1.]\n",
      " [2. 1. 2. 1. 2. 2. 2.]\n",
      " [2. 1. 1. 0. 1. 1. 1.]\n",
      " [1. 2. 1. 1. 1. 2. 0.]\n",
      " [1. 1. 0. 2. 2. 1. 1.]]\n"
     ]
    },
    {
     "data": {
      "application/vnd.jupyter.widget-view+json": {
       "model_id": "0892acd130e44b61bdd596ca0b454603",
       "version_major": 2,
       "version_minor": 0
      },
      "text/plain": [
       "MCTS Iterations:   0%|                                                    | 0/100 [00:00<?, ?iter/s]"
      ]
     },
     "metadata": {},
     "output_type": "display_data"
    },
    {
     "name": "stdout",
     "output_type": "stream",
     "text": [
      "Alphazero Move: (6, 2)\n",
      "[[2. 2. 2. 2. 2. 2. 1.]\n",
      " [2. 2. 2. 2. 1. 1. 0.]\n",
      " [1. 0. 1. 2. 2. 1. 1.]\n",
      " [2. 1. 2. 1. 2. 2. 2.]\n",
      " [2. 1. 1. 0. 1. 1. 1.]\n",
      " [1. 2. 1. 1. 1. 2. 0.]\n",
      " [1. 1. 1. 0. 0. 1. 1.]]\n",
      "Minimax Move: ((5, 6), 0.5)\n",
      "[[2. 2. 2. 2. 2. 2. 1.]\n",
      " [2. 2. 2. 2. 1. 1. 0.]\n",
      " [1. 0. 1. 2. 2. 1. 1.]\n",
      " [2. 1. 2. 1. 2. 2. 2.]\n",
      " [2. 1. 1. 0. 1. 1. 1.]\n",
      " [1. 2. 1. 1. 1. 2. 2.]\n",
      " [1. 1. 1. 0. 0. 1. 1.]]\n"
     ]
    },
    {
     "data": {
      "application/vnd.jupyter.widget-view+json": {
       "model_id": "948896ece42f450eb8625aecec12f7ec",
       "version_major": 2,
       "version_minor": 0
      },
      "text/plain": [
       "MCTS Iterations:   0%|                                                    | 0/100 [00:00<?, ?iter/s]"
      ]
     },
     "metadata": {},
     "output_type": "display_data"
    },
    {
     "name": "stdout",
     "output_type": "stream",
     "text": [
      "Alphazero Move: (2, 1)\n",
      "[[0. 0. 0. 0. 0. 0. 1.]\n",
      " [0. 0. 0. 0. 1. 1. 0.]\n",
      " [1. 1. 1. 0. 0. 1. 1.]\n",
      " [2. 1. 2. 1. 0. 0. 0.]\n",
      " [2. 1. 1. 0. 1. 1. 1.]\n",
      " [1. 2. 1. 1. 1. 2. 2.]\n",
      " [1. 1. 1. 0. 0. 1. 1.]]\n",
      "Minimax Move: ((0, 5), -8.5)\n",
      "[[0. 0. 0. 0. 0. 2. 1.]\n",
      " [0. 0. 0. 0. 1. 1. 0.]\n",
      " [1. 1. 1. 0. 0. 1. 1.]\n",
      " [2. 1. 2. 1. 0. 0. 0.]\n",
      " [2. 1. 1. 0. 1. 1. 1.]\n",
      " [1. 2. 1. 1. 1. 2. 2.]\n",
      " [1. 1. 1. 0. 0. 1. 1.]]\n"
     ]
    },
    {
     "data": {
      "application/vnd.jupyter.widget-view+json": {
       "model_id": "bc616f8ba94845f2846ff55cff73c0c5",
       "version_major": 2,
       "version_minor": 0
      },
      "text/plain": [
       "MCTS Iterations:   0%|                                                    | 0/100 [00:00<?, ?iter/s]"
      ]
     },
     "metadata": {},
     "output_type": "display_data"
    },
    {
     "name": "stdout",
     "output_type": "stream",
     "text": [
      "Alphazero Move: (0, 4)\n",
      "[[0. 0. 0. 0. 1. 0. 1.]\n",
      " [0. 0. 0. 0. 1. 1. 0.]\n",
      " [1. 1. 1. 0. 0. 1. 1.]\n",
      " [2. 1. 2. 1. 0. 0. 0.]\n",
      " [2. 1. 1. 0. 1. 1. 1.]\n",
      " [1. 2. 1. 1. 1. 2. 2.]\n",
      " [1. 1. 1. 0. 0. 1. 1.]]\n",
      "Minimax Move: ((1, 3), -8.5)\n",
      "[[0. 0. 0. 0. 1. 0. 1.]\n",
      " [0. 0. 0. 2. 1. 1. 0.]\n",
      " [1. 1. 1. 0. 0. 1. 1.]\n",
      " [2. 1. 2. 1. 0. 0. 0.]\n",
      " [2. 1. 1. 0. 1. 1. 1.]\n",
      " [1. 2. 1. 1. 1. 2. 2.]\n",
      " [1. 1. 1. 0. 0. 1. 1.]]\n"
     ]
    },
    {
     "data": {
      "application/vnd.jupyter.widget-view+json": {
       "model_id": "2114aca2b7054b60b6e4ad4cac7912c7",
       "version_major": 2,
       "version_minor": 0
      },
      "text/plain": [
       "MCTS Iterations:   0%|                                                    | 0/100 [00:00<?, ?iter/s]"
      ]
     },
     "metadata": {},
     "output_type": "display_data"
    },
    {
     "name": "stdout",
     "output_type": "stream",
     "text": [
      "Alphazero Move: (0, 2)\n",
      "[[0. 0. 1. 0. 1. 0. 1.]\n",
      " [0. 0. 0. 2. 1. 1. 0.]\n",
      " [1. 1. 1. 0. 0. 1. 1.]\n",
      " [2. 1. 2. 1. 0. 0. 0.]\n",
      " [2. 1. 1. 0. 1. 1. 1.]\n",
      " [1. 2. 1. 1. 1. 2. 2.]\n",
      " [1. 1. 1. 0. 0. 1. 1.]]\n",
      "Minimax Move: ((0, 3), -8.5)\n",
      "[[0. 0. 1. 2. 1. 0. 1.]\n",
      " [0. 0. 0. 2. 1. 1. 0.]\n",
      " [1. 1. 1. 0. 0. 1. 1.]\n",
      " [2. 1. 2. 1. 0. 0. 0.]\n",
      " [2. 1. 1. 0. 1. 1. 1.]\n",
      " [1. 2. 1. 1. 1. 2. 2.]\n",
      " [1. 1. 1. 0. 0. 1. 1.]]\n"
     ]
    },
    {
     "data": {
      "application/vnd.jupyter.widget-view+json": {
       "model_id": "aa37137c19244d3d899c2c4699d3a895",
       "version_major": 2,
       "version_minor": 0
      },
      "text/plain": [
       "MCTS Iterations:   0%|                                                    | 0/100 [00:00<?, ?iter/s]"
      ]
     },
     "metadata": {},
     "output_type": "display_data"
    },
    {
     "name": "stdout",
     "output_type": "stream",
     "text": [
      "Alphazero Move: (3, 4)\n",
      "[[0. 0. 1. 2. 1. 0. 1.]\n",
      " [0. 0. 0. 2. 1. 1. 0.]\n",
      " [1. 1. 1. 0. 0. 1. 1.]\n",
      " [2. 1. 2. 1. 1. 0. 0.]\n",
      " [2. 1. 1. 0. 1. 1. 1.]\n",
      " [1. 2. 1. 1. 1. 2. 2.]\n",
      " [1. 1. 1. 0. 0. 1. 1.]]\n",
      "Minimax Move: ((0, 5), -6.5)\n",
      "[[0. 0. 1. 2. 1. 2. 1.]\n",
      " [0. 0. 0. 2. 1. 1. 0.]\n",
      " [1. 1. 1. 0. 0. 1. 1.]\n",
      " [2. 1. 2. 1. 1. 0. 0.]\n",
      " [2. 1. 1. 0. 1. 1. 1.]\n",
      " [1. 2. 1. 1. 1. 2. 2.]\n",
      " [1. 1. 1. 0. 0. 1. 1.]]\n"
     ]
    },
    {
     "data": {
      "application/vnd.jupyter.widget-view+json": {
       "model_id": "7c45bbf4fa8845f0b4f86116b2181001",
       "version_major": 2,
       "version_minor": 0
      },
      "text/plain": [
       "MCTS Iterations:   0%|                                                    | 0/100 [00:00<?, ?iter/s]"
      ]
     },
     "metadata": {},
     "output_type": "display_data"
    },
    {
     "name": "stdout",
     "output_type": "stream",
     "text": [
      "Alphazero Move: (2, 3)\n",
      "[[0. 0. 1. 2. 1. 2. 1.]\n",
      " [0. 0. 0. 2. 1. 1. 0.]\n",
      " [1. 1. 1. 1. 0. 1. 1.]\n",
      " [2. 1. 2. 1. 1. 0. 0.]\n",
      " [2. 1. 1. 0. 1. 1. 1.]\n",
      " [1. 2. 1. 1. 1. 2. 2.]\n",
      " [1. 1. 1. 0. 0. 1. 1.]]\n",
      "Minimax Move: ((1, 1), -4.5)\n",
      "[[0. 0. 1. 2. 1. 2. 1.]\n",
      " [0. 2. 0. 2. 1. 1. 0.]\n",
      " [1. 1. 1. 1. 0. 1. 1.]\n",
      " [2. 1. 2. 1. 1. 0. 0.]\n",
      " [2. 1. 1. 0. 1. 1. 1.]\n",
      " [1. 2. 1. 1. 1. 2. 2.]\n",
      " [1. 1. 1. 0. 0. 1. 1.]]\n"
     ]
    },
    {
     "data": {
      "application/vnd.jupyter.widget-view+json": {
       "model_id": "f9e645e10a7e4760bfa80b3a415d8208",
       "version_major": 2,
       "version_minor": 0
      },
      "text/plain": [
       "MCTS Iterations:   0%|                                                    | 0/100 [00:00<?, ?iter/s]"
      ]
     },
     "metadata": {},
     "output_type": "display_data"
    },
    {
     "name": "stdout",
     "output_type": "stream",
     "text": [
      "Alphazero Move: (3, 5)\n",
      "[[0. 0. 1. 2. 1. 2. 1.]\n",
      " [0. 2. 0. 2. 1. 1. 0.]\n",
      " [1. 1. 1. 1. 0. 1. 1.]\n",
      " [2. 1. 2. 1. 1. 1. 0.]\n",
      " [2. 1. 1. 0. 1. 1. 1.]\n",
      " [1. 2. 1. 1. 1. 2. 2.]\n",
      " [1. 1. 1. 0. 0. 1. 1.]]\n",
      "Minimax Move: ((1, 2), -2.5)\n",
      "[[0. 0. 1. 2. 1. 2. 1.]\n",
      " [0. 2. 2. 2. 1. 1. 0.]\n",
      " [1. 1. 1. 1. 0. 1. 1.]\n",
      " [2. 1. 2. 1. 1. 1. 0.]\n",
      " [2. 1. 1. 0. 1. 1. 1.]\n",
      " [1. 2. 1. 1. 1. 2. 2.]\n",
      " [1. 1. 1. 0. 0. 1. 1.]]\n"
     ]
    },
    {
     "data": {
      "application/vnd.jupyter.widget-view+json": {
       "model_id": "0caa1b48b7c3478ca15cbc7ca28d81ca",
       "version_major": 2,
       "version_minor": 0
      },
      "text/plain": [
       "MCTS Iterations:   0%|                                                    | 0/100 [00:00<?, ?iter/s]"
      ]
     },
     "metadata": {},
     "output_type": "display_data"
    },
    {
     "name": "stdout",
     "output_type": "stream",
     "text": [
      "Alphazero Move: (0, 1)\n",
      "[[0. 1. 1. 2. 1. 2. 1.]\n",
      " [0. 2. 2. 2. 1. 1. 0.]\n",
      " [1. 1. 1. 1. 0. 1. 1.]\n",
      " [2. 1. 2. 1. 1. 1. 0.]\n",
      " [2. 1. 1. 0. 1. 1. 1.]\n",
      " [1. 2. 1. 1. 1. 2. 2.]\n",
      " [1. 1. 1. 0. 0. 1. 1.]]\n",
      "Minimax Move: ((1, 0), -1.5)\n",
      "[[0. 1. 1. 2. 1. 2. 1.]\n",
      " [2. 2. 2. 2. 1. 1. 0.]\n",
      " [1. 1. 1. 1. 0. 1. 1.]\n",
      " [2. 1. 2. 1. 1. 1. 0.]\n",
      " [2. 1. 1. 0. 1. 1. 1.]\n",
      " [1. 2. 1. 1. 1. 2. 2.]\n",
      " [1. 1. 1. 0. 0. 1. 1.]]\n"
     ]
    },
    {
     "data": {
      "application/vnd.jupyter.widget-view+json": {
       "model_id": "f51d7a3a54374d8aa7266ee05f97adc2",
       "version_major": 2,
       "version_minor": 0
      },
      "text/plain": [
       "MCTS Iterations:   0%|                                                    | 0/100 [00:00<?, ?iter/s]"
      ]
     },
     "metadata": {},
     "output_type": "display_data"
    },
    {
     "name": "stdout",
     "output_type": "stream",
     "text": [
      "Alphazero Move: (6, 3)\n",
      "[[0. 1. 1. 2. 1. 2. 1.]\n",
      " [2. 2. 2. 2. 1. 1. 0.]\n",
      " [1. 1. 1. 1. 0. 1. 1.]\n",
      " [2. 1. 2. 1. 1. 1. 0.]\n",
      " [2. 1. 1. 0. 1. 1. 1.]\n",
      " [1. 2. 1. 1. 1. 2. 2.]\n",
      " [1. 1. 1. 1. 0. 1. 1.]]\n",
      "Minimax Move: ((2, 4), 0.5)\n",
      "[[0. 1. 1. 2. 1. 2. 1.]\n",
      " [2. 2. 2. 2. 1. 1. 0.]\n",
      " [1. 1. 1. 1. 2. 1. 1.]\n",
      " [2. 1. 2. 1. 1. 1. 0.]\n",
      " [2. 1. 1. 0. 1. 1. 1.]\n",
      " [1. 2. 1. 1. 1. 2. 2.]\n",
      " [1. 1. 1. 1. 0. 1. 1.]]\n"
     ]
    },
    {
     "data": {
      "application/vnd.jupyter.widget-view+json": {
       "model_id": "0e831f8e5ace49779e4f4900add1c17d",
       "version_major": 2,
       "version_minor": 0
      },
      "text/plain": [
       "MCTS Iterations:   0%|                                                    | 0/100 [00:00<?, ?iter/s]"
      ]
     },
     "metadata": {},
     "output_type": "display_data"
    },
    {
     "name": "stdout",
     "output_type": "stream",
     "text": [
      "Alphazero Move: (0, 0)\n",
      "[[1. 1. 1. 0. 1. 2. 1.]\n",
      " [0. 0. 0. 0. 1. 1. 0.]\n",
      " [1. 1. 1. 1. 2. 1. 1.]\n",
      " [2. 1. 2. 1. 1. 1. 0.]\n",
      " [2. 1. 1. 0. 1. 1. 1.]\n",
      " [1. 2. 1. 1. 1. 2. 2.]\n",
      " [1. 1. 1. 1. 0. 1. 1.]]\n",
      "Minimax Move: ((0, 3), -2.5)\n",
      "[[1. 1. 1. 2. 1. 2. 1.]\n",
      " [0. 0. 0. 0. 1. 1. 0.]\n",
      " [1. 1. 1. 1. 2. 1. 1.]\n",
      " [2. 1. 2. 1. 1. 1. 0.]\n",
      " [2. 1. 1. 0. 1. 1. 1.]\n",
      " [1. 2. 1. 1. 1. 2. 2.]\n",
      " [1. 1. 1. 1. 0. 1. 1.]]\n"
     ]
    },
    {
     "data": {
      "application/vnd.jupyter.widget-view+json": {
       "model_id": "5c2b0e7883b14e4bbc52336fd6084c30",
       "version_major": 2,
       "version_minor": 0
      },
      "text/plain": [
       "MCTS Iterations:   0%|                                                    | 0/100 [00:00<?, ?iter/s]"
      ]
     },
     "metadata": {},
     "output_type": "display_data"
    },
    {
     "name": "stdout",
     "output_type": "stream",
     "text": [
      "Alphazero Move: (4, 3)\n",
      "[[1. 1. 1. 2. 1. 2. 1.]\n",
      " [0. 0. 0. 0. 1. 1. 0.]\n",
      " [1. 1. 1. 1. 2. 1. 1.]\n",
      " [2. 1. 2. 1. 1. 1. 0.]\n",
      " [2. 1. 1. 1. 1. 1. 1.]\n",
      " [1. 2. 1. 1. 1. 2. 2.]\n",
      " [1. 1. 1. 1. 0. 1. 1.]]\n",
      "Minimax Move: ((1, 0), -0.5)\n",
      "[[1. 1. 1. 2. 1. 2. 1.]\n",
      " [2. 0. 0. 0. 1. 1. 0.]\n",
      " [1. 1. 1. 1. 2. 1. 1.]\n",
      " [2. 1. 2. 1. 1. 1. 0.]\n",
      " [2. 1. 1. 1. 1. 1. 1.]\n",
      " [1. 2. 1. 1. 1. 2. 2.]\n",
      " [1. 1. 1. 1. 0. 1. 1.]]\n"
     ]
    },
    {
     "data": {
      "application/vnd.jupyter.widget-view+json": {
       "model_id": "c5ec73b2a8c14453bb8659cb59d8085f",
       "version_major": 2,
       "version_minor": 0
      },
      "text/plain": [
       "MCTS Iterations:   0%|                                                    | 0/100 [00:00<?, ?iter/s]"
      ]
     },
     "metadata": {},
     "output_type": "display_data"
    },
    {
     "name": "stdout",
     "output_type": "stream",
     "text": [
      "Alphazero Move: (-1, -1)\n",
      "[[1. 1. 1. 2. 1. 2. 1.]\n",
      " [2. 0. 0. 0. 1. 1. 0.]\n",
      " [1. 1. 1. 1. 2. 1. 1.]\n",
      " [2. 1. 2. 1. 1. 1. 0.]\n",
      " [2. 1. 1. 1. 1. 1. 1.]\n",
      " [1. 2. 1. 1. 1. 2. 2.]\n",
      " [1. 1. 1. 1. 0. 1. 1.]]\n",
      "Minimax Move: ((1, 1), 0.5)\n",
      "[[1. 1. 1. 2. 1. 2. 1.]\n",
      " [2. 2. 0. 0. 1. 1. 0.]\n",
      " [1. 1. 1. 1. 2. 1. 1.]\n",
      " [2. 1. 2. 1. 1. 1. 0.]\n",
      " [2. 1. 1. 1. 1. 1. 1.]\n",
      " [1. 2. 1. 1. 1. 2. 2.]\n",
      " [1. 1. 1. 1. 0. 1. 1.]]\n"
     ]
    },
    {
     "data": {
      "application/vnd.jupyter.widget-view+json": {
       "model_id": "a4b7957b81a34a189d9583de2abe5a92",
       "version_major": 2,
       "version_minor": 0
      },
      "text/plain": [
       "MCTS Iterations:   0%|                                                    | 0/100 [00:00<?, ?iter/s]"
      ]
     },
     "metadata": {},
     "output_type": "display_data"
    },
    {
     "name": "stdout",
     "output_type": "stream",
     "text": [
      "Alphazero Move: (1, 2)\n",
      "[[1. 1. 1. 2. 1. 2. 1.]\n",
      " [0. 0. 1. 0. 1. 1. 0.]\n",
      " [1. 1. 1. 1. 2. 1. 1.]\n",
      " [2. 1. 2. 1. 1. 1. 0.]\n",
      " [2. 1. 1. 1. 1. 1. 1.]\n",
      " [1. 2. 1. 1. 1. 2. 2.]\n",
      " [1. 1. 1. 1. 0. 1. 1.]]\n",
      "Minimax Move: ((1, 0), 0.5)\n",
      "[[1. 1. 1. 2. 1. 2. 1.]\n",
      " [2. 0. 1. 0. 1. 1. 0.]\n",
      " [1. 1. 1. 1. 2. 1. 1.]\n",
      " [2. 1. 2. 1. 1. 1. 0.]\n",
      " [2. 1. 1. 1. 1. 1. 1.]\n",
      " [1. 2. 1. 1. 1. 2. 2.]\n",
      " [1. 1. 1. 1. 0. 1. 1.]]\n"
     ]
    },
    {
     "data": {
      "application/vnd.jupyter.widget-view+json": {
       "model_id": "df554e41275a4fdf9e5400dbce4b9ed9",
       "version_major": 2,
       "version_minor": 0
      },
      "text/plain": [
       "MCTS Iterations:   0%|                                                    | 0/100 [00:00<?, ?iter/s]"
      ]
     },
     "metadata": {},
     "output_type": "display_data"
    },
    {
     "name": "stdout",
     "output_type": "stream",
     "text": [
      "Alphazero Move: (1, 1)\n",
      "[[1. 1. 1. 2. 1. 2. 1.]\n",
      " [0. 1. 1. 0. 1. 1. 0.]\n",
      " [1. 1. 1. 1. 2. 1. 1.]\n",
      " [2. 1. 2. 1. 1. 1. 0.]\n",
      " [2. 1. 1. 1. 1. 1. 1.]\n",
      " [1. 2. 1. 1. 1. 2. 2.]\n",
      " [1. 1. 1. 1. 0. 1. 1.]]\n",
      "Minimax Move: ((1, 3), 1.5)\n",
      "[[1. 1. 1. 2. 1. 2. 1.]\n",
      " [0. 1. 1. 2. 1. 1. 0.]\n",
      " [1. 1. 1. 1. 2. 1. 1.]\n",
      " [2. 1. 2. 1. 1. 1. 0.]\n",
      " [2. 1. 1. 1. 1. 1. 1.]\n",
      " [1. 2. 1. 1. 1. 2. 2.]\n",
      " [1. 1. 1. 1. 0. 1. 1.]]\n"
     ]
    },
    {
     "data": {
      "application/vnd.jupyter.widget-view+json": {
       "model_id": "5bff9d6ab84d4e1db0a98f838a547832",
       "version_major": 2,
       "version_minor": 0
      },
      "text/plain": [
       "MCTS Iterations:   0%|                                                    | 0/100 [00:00<?, ?iter/s]"
      ]
     },
     "metadata": {},
     "output_type": "display_data"
    },
    {
     "name": "stdout",
     "output_type": "stream",
     "text": [
      "Alphazero Move: (3, 6)\n",
      "[[1. 1. 1. 2. 1. 2. 1.]\n",
      " [0. 1. 1. 2. 1. 1. 0.]\n",
      " [1. 1. 1. 1. 2. 1. 1.]\n",
      " [2. 1. 2. 1. 1. 1. 1.]\n",
      " [2. 1. 1. 1. 1. 1. 1.]\n",
      " [1. 2. 1. 1. 1. 2. 2.]\n",
      " [1. 1. 1. 1. 0. 1. 1.]]\n",
      "Minimax Move: ((1, 0), 3.5)\n",
      "[[1. 1. 1. 2. 1. 2. 1.]\n",
      " [2. 1. 1. 2. 1. 1. 0.]\n",
      " [1. 1. 1. 1. 2. 1. 1.]\n",
      " [2. 1. 2. 1. 1. 1. 1.]\n",
      " [2. 1. 1. 1. 1. 1. 1.]\n",
      " [1. 2. 1. 1. 1. 2. 2.]\n",
      " [1. 1. 1. 1. 0. 1. 1.]]\n"
     ]
    },
    {
     "data": {
      "application/vnd.jupyter.widget-view+json": {
       "model_id": "4dfa54294a324ed0af0e2a92727f42d4",
       "version_major": 2,
       "version_minor": 0
      },
      "text/plain": [
       "MCTS Iterations:   0%|                                                    | 0/100 [00:00<?, ?iter/s]"
      ]
     },
     "metadata": {},
     "output_type": "display_data"
    },
    {
     "name": "stdout",
     "output_type": "stream",
     "text": [
      "Alphazero Move: (1, 6)\n",
      "[[1. 1. 1. 2. 1. 2. 1.]\n",
      " [2. 1. 1. 2. 1. 1. 1.]\n",
      " [1. 1. 1. 1. 2. 1. 1.]\n",
      " [2. 1. 2. 1. 1. 1. 1.]\n",
      " [2. 1. 1. 1. 1. 1. 1.]\n",
      " [1. 2. 1. 1. 1. 2. 2.]\n",
      " [1. 1. 1. 1. 0. 1. 1.]]\n",
      "Minimax Move: ((-1, -1), 4.5)\n",
      "[[1. 1. 1. 2. 1. 2. 1.]\n",
      " [2. 1. 1. 2. 1. 1. 1.]\n",
      " [1. 1. 1. 1. 2. 1. 1.]\n",
      " [2. 1. 2. 1. 1. 1. 1.]\n",
      " [2. 1. 1. 1. 1. 1. 1.]\n",
      " [1. 2. 1. 1. 1. 2. 2.]\n",
      " [1. 1. 1. 1. 0. 1. 1.]]\n"
     ]
    },
    {
     "data": {
      "application/vnd.jupyter.widget-view+json": {
       "model_id": "3fdf1daa6ac74b16b5990a4c2453209a",
       "version_major": 2,
       "version_minor": 0
      },
      "text/plain": [
       "MCTS Iterations:   0%|                                                    | 0/100 [00:00<?, ?iter/s]"
      ]
     },
     "metadata": {},
     "output_type": "display_data"
    },
    {
     "name": "stdout",
     "output_type": "stream",
     "text": [
      "Alphazero Move: (6, 4)\n",
      "[[1. 1. 1. 2. 1. 2. 1.]\n",
      " [2. 1. 1. 2. 1. 1. 1.]\n",
      " [1. 1. 1. 1. 2. 1. 1.]\n",
      " [2. 1. 2. 1. 1. 1. 1.]\n",
      " [2. 1. 1. 1. 1. 1. 1.]\n",
      " [1. 2. 1. 1. 1. 2. 2.]\n",
      " [1. 1. 1. 1. 1. 1. 1.]]\n",
      "Minimax Move: ((-1, -1), 5.5)\n",
      "[[1. 1. 1. 2. 1. 2. 1.]\n",
      " [2. 1. 1. 2. 1. 1. 1.]\n",
      " [1. 1. 1. 1. 2. 1. 1.]\n",
      " [2. 1. 2. 1. 1. 1. 1.]\n",
      " [2. 1. 1. 1. 1. 1. 1.]\n",
      " [1. 2. 1. 1. 1. 2. 2.]\n",
      " [1. 1. 1. 1. 1. 1. 1.]]\n"
     ]
    },
    {
     "data": {
      "application/vnd.jupyter.widget-view+json": {
       "model_id": "f3d012f2358d40e9b1030906b2258dbc",
       "version_major": 2,
       "version_minor": 0
      },
      "text/plain": [
       "MCTS Iterations:   0%|                                                    | 0/100 [00:00<?, ?iter/s]"
      ]
     },
     "metadata": {},
     "output_type": "display_data"
    },
    {
     "name": "stdout",
     "output_type": "stream",
     "text": [
      "Alphazero Move: (-1, -1)\n",
      "[[1. 1. 1. 2. 1. 2. 1.]\n",
      " [2. 1. 1. 2. 1. 1. 1.]\n",
      " [1. 1. 1. 1. 2. 1. 1.]\n",
      " [2. 1. 2. 1. 1. 1. 1.]\n",
      " [2. 1. 1. 1. 1. 1. 1.]\n",
      " [1. 2. 1. 1. 1. 2. 2.]\n",
      " [1. 1. 1. 1. 1. 1. 1.]]\n",
      "2 won\n"
     ]
    }
   ],
   "source": [
    "face_minimax(\"A\",4,2,600,True)"
   ]
  },
  {
   "cell_type": "code",
   "execution_count": null,
   "metadata": {},
   "outputs": [],
   "source": []
  }
 ],
 "metadata": {
  "kernelspec": {
   "display_name": "Python 3 (ipykernel)",
   "language": "python",
   "name": "python3"
  },
  "language_info": {
   "codemirror_mode": {
    "name": "ipython",
    "version": 3
   },
   "file_extension": ".py",
   "mimetype": "text/x-python",
   "name": "python",
   "nbconvert_exporter": "python",
   "pygments_lexer": "ipython3",
   "version": "3.9.7"
  }
 },
 "nbformat": 4,
 "nbformat_minor": 2
}
