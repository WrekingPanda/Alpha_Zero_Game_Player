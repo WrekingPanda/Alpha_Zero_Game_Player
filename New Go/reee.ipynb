{
 "cells": [
  {
   "cell_type": "code",
   "execution_count": null,
   "metadata": {},
   "outputs": [],
   "source": [
    "from CNN import Net\n",
    "#from alphazero import AlphaZero\n",
    "#from alphazeroparallel import AlphaZeroParallel\n",
    "from new_go_alphazero import AlphaZeroParallel2\n",
    "#from go import GoBoard\n",
    "from torch.optim import Adam"
   ]
  },
  {
   "cell_type": "code",
   "execution_count": null,
   "metadata": {},
   "outputs": [],
   "source": [
    "'''def train():\n",
    "    model = Net(7,(7**2)+1,40,64)\n",
    "    #board = GoBoard(9)\n",
    "    optimizer = Adam(model.parameters(), lr=0.001, weight_decay=0.0001)\n",
    "    params = {\"n_iterations\":10, \"self_play_iterations\":20, \"mcts_iterations\":100, \"n_epochs\":100, \"batch_size\":64, \"n_self_play_parallel\":1}\n",
    "    Alpha = AlphaZeroParallel2(model, optimizer, 7, 'G', data_augmentation=True, **params)\n",
    "    Alpha.Learn()'''"
   ]
  },
  {
   "cell_type": "code",
   "execution_count": null,
   "metadata": {},
   "outputs": [],
   "source": [
    "def train():\n",
    "    # Check if CUDA is available and use it, otherwise use CPU\n",
    "    device = torch.device(\"cuda\" if torch.cuda.is_available() else \"cpu\")\n",
    "    print(True if torch.cuda.is_available() else False)\n",
    "\n",
    "    model = Net(7, (7**2) + 1, 40, 64)\n",
    "\n",
    "    # Move the model to the selected device\n",
    "    model = model.to(device)\n",
    "\n",
    "    optimizer = Adam(model.parameters(), lr=0.001, weight_decay=0.0001)\n",
    "\n",
    "    params = {\"n_iterations\": 10, \"self_play_iterations\": 20, \"mcts_iterations\": 100, \"n_epochs\": 100, \"batch_size\": 64, \"n_self_play_parallel\": 1}\n",
    "\n",
    "    # Instantiate AlphaZeroParallel2 with the selected device\n",
    "    Alpha = AlphaZeroParallel2(model, optimizer, 7, 'G', data_augmentation=True, device=device, **params)\n",
    "\n",
    "    # Train the model\n",
    "    Alpha.Learn()"
   ]
  },
  {
   "cell_type": "code",
   "execution_count": null,
   "metadata": {},
   "outputs": [],
   "source": [
    "train()"
   ]
  }
 ],
 "metadata": {
  "language_info": {
   "name": "python"
  }
 },
 "nbformat": 4,
 "nbformat_minor": 2
}
