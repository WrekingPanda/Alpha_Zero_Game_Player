{
 "cells": [
  {
   "cell_type": "code",
   "execution_count": null,
   "metadata": {},
   "outputs": [],
   "source": [
    "from model_params import MODEL_PARAMS, TRAIN_PARAMS\n",
    "from az_parallel2 import AlphaZeroParallel2\n",
    "from ataxx import AtaxxBoard\n",
    "from go import GoBoard\n",
    "from CNN import Net\n",
    "from torch.optim import Adam"
   ]
  },
  {
   "cell_type": "markdown",
   "metadata": {},
   "source": [
    "# Ataxx 4x4"
   ]
  },
  {
   "cell_type": "code",
   "execution_count": null,
   "metadata": {},
   "outputs": [],
   "source": [
    "def train_A4():\n",
    "    model = Net(**MODEL_PARAMS[\"A4\"])\n",
    "    board = AtaxxBoard(4)\n",
    "    optimizer = Adam(model.parameters(), lr=0.01, weight_decay=0.0001)\n",
    "    Alpha = AlphaZeroParallel2(model, optimizer, board, 'A', data_augmentation=True, **TRAIN_PARAMS[\"A4\"])\n",
    "    Alpha.Learn()"
   ]
  },
  {
   "cell_type": "markdown",
   "metadata": {},
   "source": [
    "# Ataxx 5x5"
   ]
  },
  {
   "cell_type": "code",
   "execution_count": null,
   "metadata": {},
   "outputs": [],
   "source": [
    "def train_A5():\n",
    "    model = Net(**MODEL_PARAMS[\"A5\"])\n",
    "    board = AtaxxBoard(5)\n",
    "    optimizer = Adam(model.parameters(), lr=0.01, weight_decay=0.0001)\n",
    "    Alpha = AlphaZeroParallel2(model, optimizer, board, 'A', data_augmentation=True, **TRAIN_PARAMS[\"A5\"])\n",
    "    Alpha.Learn()"
   ]
  },
  {
   "cell_type": "markdown",
   "metadata": {},
   "source": [
    "# Ataxx 6x6"
   ]
  },
  {
   "cell_type": "code",
   "execution_count": null,
   "metadata": {},
   "outputs": [],
   "source": [
    "def train_A5():\n",
    "    model = Net(**MODEL_PARAMS[\"A6\"])\n",
    "    board = AtaxxBoard(6)\n",
    "    optimizer = Adam(model.parameters(), lr=0.01, weight_decay=0.0001)\n",
    "    Alpha = AlphaZeroParallel2(model, optimizer, board, 'A', data_augmentation=True, **TRAIN_PARAMS[\"A6\"])\n",
    "    Alpha.Learn()"
   ]
  },
  {
   "cell_type": "markdown",
   "metadata": {},
   "source": [
    "# Ataxx Flex"
   ]
  },
  {
   "cell_type": "code",
   "execution_count": null,
   "metadata": {},
   "outputs": [],
   "source": [
    "def train_Flex():\n",
    "    FILL_SIZE = 7\n",
    "    AFLEX_MODEL_PARAMS = {\"size\":FILL_SIZE, \"action_size\":FILL_SIZE**4, \"num_resBlocks\":20, \"num_hidden\":64}\n",
    "    AFLEX_TRAIN_PARAMS = {\"n_iterations\":10, \"self_play_iterations\":20, \"mcts_iterations\":50, \"n_epochs\":20, \"batch_size\":128, \"n_self_play_parallel\":4, \"move_cap\":FILL_SIZE**3}\n",
    "    model = Net(**AFLEX_MODEL_PARAMS)\n",
    "    board = AtaxxBoard(4)\n",
    "    optimizer = Adam(model.parameters(), lr=0.01, weight_decay=0.0001)\n",
    "    Alpha = AlphaZeroParallel2(model, optimizer, board, 'A', data_augmentation=True, **AFLEX_TRAIN_PARAMS, fill_size=FILL_SIZE)\n",
    "    Alpha.Learn()"
   ]
  },
  {
   "cell_type": "markdown",
   "metadata": {},
   "source": [
    "# Go 7x7"
   ]
  },
  {
   "cell_type": "code",
   "execution_count": null,
   "metadata": {},
   "outputs": [],
   "source": [
    "def train_G7():\n",
    "    model = Net(**MODEL_PARAMS[\"G7\"])\n",
    "    board = GoBoard(7)\n",
    "    optimizer = Adam(model.parameters(), lr=0.01, weight_decay=0.0001)\n",
    "    Alpha = AlphaZeroParallel2(model, optimizer, board, 'G', data_augmentation=True, **TRAIN_PARAMS[\"G7\"])\n",
    "    Alpha.Learn()"
   ]
  },
  {
   "cell_type": "markdown",
   "metadata": {},
   "source": [
    "# Go 9x9"
   ]
  },
  {
   "cell_type": "code",
   "execution_count": null,
   "metadata": {},
   "outputs": [],
   "source": [
    "def train_G9():\n",
    "    model = Net(**MODEL_PARAMS[\"G9\"])\n",
    "    board = GoBoard(9)\n",
    "    optimizer = Adam(model.parameters(), lr=0.01, weight_decay=0.0001)\n",
    "    Alpha = AlphaZeroParallel2(model, optimizer, board, 'G', data_augmentation=True, **TRAIN_PARAMS[\"G9\"])\n",
    "    Alpha.Learn()"
   ]
  }
 ],
 "metadata": {
  "language_info": {
   "name": "python"
  }
 },
 "nbformat": 4,
 "nbformat_minor": 2
}
