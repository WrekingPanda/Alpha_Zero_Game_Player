{
 "cells": [
  {
   "cell_type": "code",
   "execution_count": 1,
   "metadata": {},
   "outputs": [
    {
     "name": "stdout",
     "output_type": "stream",
     "text": [
      "Server ResponseINIT: AG1 A4x4\n",
      "Playing: A4x4\n",
      "Send: MOVE 0,0 1,1\n"
     ]
    }
   ],
   "source": [
    "import socket\n",
    "import random\n",
    "import time\n",
    "\n",
    "Game=\"A4x4\" # \"A6x6\" \"G7x7\" \"G9x9\" \"A5x5\"\n",
    "\n",
    "def generate_random_move():\n",
    "    x = random.randint(0, 9)\n",
    "    y = random.randint(0, 9)\n",
    "    return f\"MOVE {x},{y}\"\n",
    "\n",
    "def generate_random_move2():\n",
    "    x = random.randint(0, 4)\n",
    "    y = random.randint(0, 4)\n",
    "    x2 = random.randint(0, 4)\n",
    "    y2 = random.randint(0, 4)\n",
    "    return f\"MOVE {x},{y},{x2},{y2}\"\n",
    "\n",
    "def connect_to_server(host='localhost', port=12345):\n",
    "    client_socket = socket.socket(socket.AF_INET, socket.SOCK_STREAM)\n",
    "    client_socket.connect((host, port))\n",
    "    \n",
    "    response = client_socket.recv(1024).decode()\n",
    "    print(f\"Server ResponseINIT: {response}\")\n",
    "    \n",
    "    Game = response[-4:]\n",
    "    print(\"Playing:\", Game)\n",
    "    \n",
    "    if \"1\" in response:\n",
    "        ag=1\n",
    "    else:\n",
    "        ag=2\n",
    "    first=True\n",
    "    \n",
    "    while True:\n",
    "        # Generate and send a random move\n",
    "        \n",
    "        if ag == 1 or not first:\n",
    "            move = input()\n",
    "            time.sleep(1)\n",
    "            client_socket.send(move.encode())\n",
    "            print(\"Send:\",move)\n",
    "        \n",
    "            # Wait for server response\n",
    "            response = client_socket.recv(1024).decode()\n",
    "            print(f\"Server Response1: {response}\")\n",
    "            if \"END\" in response: break\n",
    "         \n",
    "        first=False\n",
    "        response = client_socket.recv(1024).decode()\n",
    "        print(f\"Server Response2: {response}\")\n",
    "        if \"END\" in response: break\n",
    "\n",
    "        # Add some condition to break the loop, if necessary\n",
    "        # Example: If server sends a certain message, or after a number of moves\n",
    "\n",
    "    client_socket.close()\n",
    "\n",
    "if __name__ == \"__main__\":\n",
    "    connect_to_server()\n"
   ]
  },
  {
   "cell_type": "code",
   "execution_count": null,
   "metadata": {},
   "outputs": [],
   "source": []
  }
 ],
 "metadata": {
  "kernelspec": {
   "display_name": "Python 3 (ipykernel)",
   "language": "python",
   "name": "python3"
  },
  "language_info": {
   "codemirror_mode": {
    "name": "ipython",
    "version": 3
   },
   "file_extension": ".py",
   "mimetype": "text/x-python",
   "name": "python",
   "nbconvert_exporter": "python",
   "pygments_lexer": "ipython3",
   "version": "3.9.7"
  }
 },
 "nbformat": 4,
 "nbformat_minor": 4
}
