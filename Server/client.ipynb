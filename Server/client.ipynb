{
 "cells": [
  {
   "cell_type": "code",
   "execution_count": null,
   "metadata": {},
   "outputs": [],
   "source": [
    "import socket\n",
    "import random\n",
    "import time\n",
    "import torch\n",
    "import numpy as np\n",
    "from ataxx import AttaxxBoard\n",
    "from fastgo import GoBoard\n",
    "from CNN import Net\n",
    "from aMCTS_parallel import MCTSParallel,MCTS_Node\n",
    "from model_params import MODEL_PARAMS"
   ]
  },
  {
   "cell_type": "markdown",
   "metadata": {},
   "source": [
    "### Translate incoming coordinates depending on the game being played"
   ]
  },
  {
   "cell_type": "code",
   "execution_count": null,
   "metadata": {},
   "outputs": [],
   "source": [
    "def parse_coords(data):\n",
    "    data = data.split(sep=\" \")\n",
    "    coords_list = [] # go: [i, j] | attax: [i1, j1, i2, j2]\n",
    "    for coord in data[1:]:\n",
    "        if \"-\" in coord:\n",
    "            coords_list.append(-1)\n",
    "            coords_list.append(-1)\n",
    "        else:\n",
    "            coords_list.append(int(coord[0]))\n",
    "            coords_list.append(int(coord[-1]))\n",
    "    coords_list = tuple(coords_list)\n",
    "    return coords_list"
   ]
  },
  {
   "cell_type": "markdown",
   "metadata": {},
   "source": [
    "### Load the model to choose the plays to send"
   ]
  },
  {
   "cell_type": "code",
   "execution_count": null,
   "metadata": {},
   "outputs": [],
   "source": [
    "def load_model(game_type,game_size):\n",
    "    model = Net(**MODEL_PARAMS.get(game_type+str(game_size)))\n",
    "    \n",
    "    model_path = \"D:/Paulo Alexandre/Ensino_Superior/3_ano/1_semestre/LabIACD/Project2/Alpha_Zero_Game_Player/\"\n",
    "    model_name = game_type + \"_\" + str(game_size) + \".pt\"\n",
    "    \n",
    "    model.load_state_dict(torch.load(model_path + model_name, map_location=torch.device(\"cuda\" if torch.cuda.is_available() else \"cpu\")))\n",
    "    model.eval()\n",
    "\n",
    "    return model"
   ]
  },
  {
   "cell_type": "markdown",
   "metadata": {},
   "source": [
    "### Connect the client to the server and interact"
   ]
  },
  {
   "cell_type": "code",
   "execution_count": null,
   "metadata": {},
   "outputs": [],
   "source": [
    "def connect_to_server(host='localhost', port=12345):\n",
    "    client_socket = socket.socket(socket.AF_INET, socket.SOCK_STREAM)\n",
    "    client_socket.connect((host, port))\n",
    "    \n",
    "    response = client_socket.recv(1024).decode()\n",
    "    print(f\"Server ResponseINIT: {response}\")\n",
    "    \n",
    "    Game = response[-4:]\n",
    "    print(\"Playing:\", Game)\n",
    "    game_type = Game[0]\n",
    "    game_size = int(Game[-1])\n",
    "    board = AttaxxBoard(game_size) if game_type == \"A\" else GoBoard(game_size)\n",
    "    board.Start(render=False)\n",
    "\n",
    "    ag = 1 if \"1\" in response else 2\n",
    "\n",
    "    current_agent = 1\n",
    "    time_to_play = time.time()\n",
    "    play_attempts = 0\n",
    "    reset_time = False\n",
    "\n",
    "    # the model is loaded here\n",
    "    model = load_model(game_type,game_size)\n",
    "    \n",
    "    mcts = MCTSParallel(model)\n",
    "    \n",
    "    while True:\n",
    "        if ag == current_agent:\n",
    "            if reset_time:\n",
    "                time_to_play = time.time()\n",
    "                reset_time = False\n",
    "            # check if time limit to play has passed\n",
    "            if time.time() - time_to_play >= 600: # more than 60 seconds to play\n",
    "                # message to indicate no move was decided in the set playtime\n",
    "                move = \"MOVE X,X X,X\" if game_type == \"A\" else \"MOVE X,X\"\n",
    "                client_socket.send(move.encode())\n",
    "                board.NextPlayer()\n",
    "                current_agent = 3-current_agent\n",
    "                reset_time = True\n",
    "                continue\n",
    "        \n",
    "            # get the move to execute\n",
    "            roots = [MCTS_Node(board)]\n",
    "            mcts_probs = mcts.Search(roots, 200, test=True)\n",
    "\n",
    "            for root_board in roots:\n",
    "                for child in root_board.children.values():\n",
    "                    print(child.originMove, child.n, child.p)\n",
    "                print()\n",
    "\n",
    "            for i in range(len(mcts_probs)):\n",
    "                if mcts.roots[0].children.get(i):\n",
    "                    print(mcts.roots[0].children[i].originMove, mcts_probs[i])\n",
    "            action = np.argmax(mcts_probs)\n",
    "            move = mcts.roots[0].children[action].originMove\n",
    "            # move = (i1, j1, i2, j2)\n",
    "            # mive_msg = \"MOVE i1,j1 i2,j2\"\n",
    "            \"\"\" purelly for testing, we can delete the following line later \"\"\"\n",
    "            print(\"Alphazero Move:\", move)\n",
    "\n",
    "            if game_type == \"A\":\n",
    "                move_msg = \"MOVE \" + str(move[0]) + \",\" + str(move[1]) + \" \" + str(move[2]) + \",\" + str(move[3])\n",
    "            else:\n",
    "                move_msg = \"MOVE \" + str(move[0]) + \",\" + str(move[1])\n",
    "            msg = str(move_msg)\n",
    "            client_socket.send(msg.encode())\n",
    "            print(\"Send:\", msg)\n",
    "        \n",
    "        # Wait for server response\n",
    "        response = client_socket.recv(1024).decode()\n",
    "        print(f\"Server Response1: {response}\")\n",
    "        if \"END\" in response: break\n",
    "        elif \"INVALID\" in response:\n",
    "            play_attempts += 1\n",
    "            # repeats the cycle without changing the current player\n",
    "            if play_attempts < 3: continue\n",
    "            # switches turns\n",
    "            else:\n",
    "                play_attempts = 0\n",
    "                board.NextPlayer()\n",
    "                current_agent = 3-current_agent\n",
    "        elif \"VALID\" in response:\n",
    "            coords = parse_coords(msg)\n",
    "            # process game\n",
    "            board.Move(coords)\n",
    "            board.NextPlayer()\n",
    "            current_agent = 3-current_agent\n",
    "        elif \"MOVE\" in response:\n",
    "            coords = parse_coords(response)\n",
    "            # process game\n",
    "            board.Move(coords)\n",
    "            board.NextPlayer()\n",
    "            current_agent = 3-current_agent\n",
    "        \n",
    "        print(\"-------------------------\")\n",
    "        print(board.board)\n",
    "        print(\"-------------------------\")\n",
    "\n",
    "    client_socket.close()"
   ]
  },
  {
   "cell_type": "markdown",
   "metadata": {},
   "source": [
    "# Start a client"
   ]
  },
  {
   "cell_type": "code",
   "execution_count": null,
   "metadata": {},
   "outputs": [],
   "source": [
    "if __name__ == \"__main__\":\n",
    "    connect_to_server()"
   ]
  }
 ],
 "metadata": {
  "kernelspec": {
   "display_name": "Python 3 (ipykernel)",
   "language": "python",
   "name": "python3"
  },
  "language_info": {
   "codemirror_mode": {
    "name": "ipython",
    "version": 3
   },
   "file_extension": ".py",
   "mimetype": "text/x-python",
   "name": "python",
   "nbconvert_exporter": "python",
   "pygments_lexer": "ipython3",
   "version": "3.9.7"
  }
 },
 "nbformat": 4,
 "nbformat_minor": 4
}
